{
 "cells": [
  {
   "cell_type": "markdown",
   "metadata": {},
   "source": [
    "# Day 0\n",
    "\n",
    "## Mean, Median, and Mode"
   ]
  },
  {
   "cell_type": "code",
   "execution_count": 1,
   "metadata": {},
   "outputs": [],
   "source": [
    "num_elements = 2500\n",
    "\n",
    "with open('test_case.txt', 'r') as file:\n",
    "    data = [int(x) for x in file.read().split(' ')]"
   ]
  },
  {
   "cell_type": "code",
   "execution_count": 2,
   "metadata": {},
   "outputs": [
    {
     "name": "stdout",
     "output_type": "stream",
     "text": [
      "49921.5104\n"
     ]
    }
   ],
   "source": [
    "# print mean\n",
    "print(sum(data) / num_elements)"
   ]
  },
  {
   "cell_type": "code",
   "execution_count": 3,
   "metadata": {},
   "outputs": [
    {
     "name": "stdout",
     "output_type": "stream",
     "text": [
      "49253.5\n"
     ]
    }
   ],
   "source": [
    "# print median\n",
    "sorted_data = data\n",
    "sorted_data.sort()\n",
    "\n",
    "if num_elements % 2 == 0:\n",
    "    print((sorted_data[num_elements//2] + sorted_data[num_elements//2 - 1]) / 2)\n",
    "else:\n",
    "    print(sorted_data[(num_elements - 1)//2])"
   ]
  },
  {
   "cell_type": "code",
   "execution_count": 4,
   "metadata": {},
   "outputs": [
    {
     "name": "stdout",
     "output_type": "stream",
     "text": [
      "2184\n"
     ]
    }
   ],
   "source": [
    "# print mode\n",
    "uniques_list = []\n",
    "\n",
    "for element in data:\n",
    "    if element not in uniques_list:\n",
    "        uniques_list.append(element)\n",
    "\n",
    "data_dict = {element:0 for element in uniques_list}\n",
    "\n",
    "for element in data:\n",
    "    data_dict[element] += 1\n",
    "    \n",
    "num_counts = [data_dict[x] for x in data_dict]\n",
    "max_count = max(num_counts)\n",
    "\n",
    "max_elements = []\n",
    "for x in data_dict:\n",
    "    if data_dict[x] == max_count:\n",
    "        max_elements.append(x)\n",
    "\n",
    "if len(max_elements) > 1:\n",
    "    print(min(max_elements))\n",
    "else:\n",
    "    print(max_elements[1])"
   ]
  },
  {
   "cell_type": "markdown",
   "metadata": {},
   "source": [
    "## Weighted Mean"
   ]
  },
  {
   "cell_type": "code",
   "execution_count": 5,
   "metadata": {},
   "outputs": [],
   "source": [
    "in_x = [int(x) for x in '10 40 30 50 20 10 40 30 50 20'.split(' ')]\n",
    "in_w = [int(x) for x in '1 2 3 4 5 6 7 8 9 10'.split(' ')]"
   ]
  },
  {
   "cell_type": "code",
   "execution_count": 6,
   "metadata": {},
   "outputs": [
    {
     "name": "stdout",
     "output_type": "stream",
     "text": [
      "31.1\n"
     ]
    }
   ],
   "source": [
    "def weightedMean(X, W):\n",
    "    mult = [X[i] * W[i] for i in range(len(X))]\n",
    "    print(round(sum(mult) / sum(W), 1))\n",
    "    \n",
    "weightedMean(in_x, in_w)"
   ]
  },
  {
   "cell_type": "code",
   "execution_count": null,
   "metadata": {},
   "outputs": [],
   "source": []
  }
 ],
 "metadata": {
  "kernelspec": {
   "display_name": "Python 3",
   "language": "python",
   "name": "python3"
  },
  "language_info": {
   "codemirror_mode": {
    "name": "ipython",
    "version": 3
   },
   "file_extension": ".py",
   "mimetype": "text/x-python",
   "name": "python",
   "nbconvert_exporter": "python",
   "pygments_lexer": "ipython3",
   "version": "3.8.6rc1"
  }
 },
 "nbformat": 4,
 "nbformat_minor": 4
}
