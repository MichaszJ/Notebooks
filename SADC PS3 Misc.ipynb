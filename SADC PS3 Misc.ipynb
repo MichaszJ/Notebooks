{
 "cells": [
  {
   "cell_type": "code",
   "execution_count": 8,
   "id": "747e3bad",
   "metadata": {},
   "outputs": [],
   "source": [
    "using LinearAlgebra, Symbolics, Combinatorics, Plots, PlotThemes, LaTeXStrings, PrettyTables\n",
    "theme(:dao)"
   ]
  },
  {
   "cell_type": "markdown",
   "id": "1a870f64",
   "metadata": {},
   "source": [
    "# Derivation of CoM Relation"
   ]
  },
  {
   "cell_type": "code",
   "execution_count": 12,
   "id": "a8656a4e",
   "metadata": {},
   "outputs": [],
   "source": [
    "@variables m1 m2 m3 x1 x2 x3 y1 y2 y3 z1 z2 z3\n",
    "\n",
    "masses_sym = [m1, m2, m3]\n",
    "positions_sym = [\n",
    "    x1 y1 z1\n",
    "    x2 y2 z2\n",
    "    x3 y3 z3\n",
    "];"
   ]
  },
  {
   "cell_type": "code",
   "execution_count": 13,
   "id": "f0836971",
   "metadata": {},
   "outputs": [
    {
     "data": {
      "text/latex": [
       "\\begin{equation}\n",
       "\\left[\n",
       "\\begin{array}{ccc}\n",
       "m1 x1 & m1 y1 & m1 z1 \\\\\n",
       "m2 x2 & m2 y2 & m2 z2 \\\\\n",
       "m3 x3 & m3 y3 & m3 z3 \\\\\n",
       "\\end{array}\n",
       "\\right]\n",
       "\\end{equation}\n"
      ],
      "text/plain": [
       "3×3 Matrix{Num}:\n",
       " m1*x1  m1*y1  m1*z1\n",
       " m2*x2  m2*y2  m2*z2\n",
       " m3*x3  m3*y3  m3*z3"
      ]
     },
     "execution_count": 13,
     "metadata": {},
     "output_type": "execute_result"
    }
   ],
   "source": [
    "pos_mas_sym = positions_sym .* masses_sym"
   ]
  },
  {
   "cell_type": "code",
   "execution_count": 14,
   "id": "ab64c387",
   "metadata": {},
   "outputs": [
    {
     "data": {
      "text/latex": [
       "\\begin{equation}\n",
       "\\frac{m1 x1 + m2 x2 + m3 x3}{m1 + m2 + m3}\n",
       "\\end{equation}\n"
      ],
      "text/plain": [
       "(m1*x1 + m2*x2 + m3*x3) / (m1 + m2 + m3)"
      ]
     },
     "execution_count": 14,
     "metadata": {},
     "output_type": "execute_result"
    }
   ],
   "source": [
    "com_x_sym = sum(pos_mas_sym[1:end, 1]) / sum(masses_sym)"
   ]
  },
  {
   "cell_type": "code",
   "execution_count": 15,
   "id": "71a90b1a",
   "metadata": {},
   "outputs": [
    {
     "data": {
      "text/latex": [
       "\\begin{equation}\n",
       "\\left[\n",
       "\\begin{array}{c}\n",
       "\\frac{m1 x1 + m2 x2 + m3 x3}{m1 + m2 + m3} \\\\\n",
       "\\frac{m1 y1 + m2 y2 + m3 y3}{m1 + m2 + m3} \\\\\n",
       "\\frac{m1 z1 + m2 z2 + m3 z3}{m1 + m2 + m3} \\\\\n",
       "\\end{array}\n",
       "\\right]\n",
       "\\end{equation}\n"
      ],
      "text/plain": [
       "3-element Vector{Num}:\n",
       " (m1*x1 + m2*x2 + m3*x3) / (m1 + m2 + m3)\n",
       " (m1*y1 + m2*y2 + m3*y3) / (m1 + m2 + m3)\n",
       " (m1*z1 + m2*z2 + m3*z3) / (m1 + m2 + m3)"
      ]
     },
     "execution_count": 15,
     "metadata": {},
     "output_type": "execute_result"
    }
   ],
   "source": [
    "com_pos_sym = [sum(pos_mas_sym[1:end, i]) / sum(masses_sym) for i ∈ 1:3]"
   ]
  },
  {
   "cell_type": "markdown",
   "id": "2f51bb4d",
   "metadata": {},
   "source": [
    "# Eigenvalue/Eigenvector Problem"
   ]
  },
  {
   "cell_type": "code",
   "execution_count": 4,
   "id": "6f2d4bf8",
   "metadata": {},
   "outputs": [],
   "source": [
    "@variables J₁₁, J₁₂, J₁₃, J₂₁, J₂₂, J₂₃, J₃₁, J₃₂, J₃₃, λ₁, λ₂, λ₃, e₁, e₂, e₃;"
   ]
  },
  {
   "cell_type": "code",
   "execution_count": 5,
   "id": "aa220b1e",
   "metadata": {},
   "outputs": [],
   "source": [
    "J = [\n",
    "    J₁₁ J₁₂ J₁₃\n",
    "    J₂₁ J₂₂ J₂₃\n",
    "    J₃₁ J₃₂ J₃₃\n",
    "]\n",
    "\n",
    "λ = [λ₁, λ₂, λ₃]\n",
    "\n",
    "e = [e₁, e₂, e₃];"
   ]
  },
  {
   "cell_type": "code",
   "execution_count": 11,
   "id": "5d6c2398",
   "metadata": {},
   "outputs": [
    {
     "data": {
      "text/latex": [
       "\\begin{equation}\n",
       "\\left[\n",
       "\\begin{array}{ccc}\n",
       "\\lambda{_1} - J{_{11}} &  - J{_{12}} &  - J{_{13}} \\\\\n",
       " - J{_{21}} & \\lambda{_1} - J{_{22}} &  - J{_{23}} \\\\\n",
       " - J{_{31}} &  - J{_{32}} & \\lambda{_1} - J{_{33}} \\\\\n",
       "\\end{array}\n",
       "\\right]\n",
       "\\end{equation}\n"
      ],
      "text/plain": [
       "3×3 Matrix{Num}:\n",
       " λ₁ - J₁₁      -J₁₂      -J₁₃\n",
       "     -J₂₁  λ₁ - J₂₂      -J₂₃\n",
       "     -J₃₁      -J₃₂  λ₁ - J₃₃"
      ]
     },
     "execution_count": 11,
     "metadata": {},
     "output_type": "execute_result"
    }
   ],
   "source": [
    "λ[1] * I(3) - J"
   ]
  },
  {
   "cell_type": "markdown",
   "id": "97cd6831",
   "metadata": {},
   "source": [
    "# $k$ Values of Mass Permutations"
   ]
  },
  {
   "cell_type": "code",
   "execution_count": 10,
   "id": "127a1faa",
   "metadata": {},
   "outputs": [],
   "source": [
    "corner_positions = [\n",
    "             0         0         0\n",
    "    2.9000         0         0\n",
    "    2.9000    1.8500         0\n",
    "         0    1.8500         0\n",
    "         0         0    2.1500\n",
    "    2.9000         0    2.1500\n",
    "    2.9000    1.8500    2.1500\n",
    "         0    1.8500    2.1500\n",
    "];"
   ]
  },
  {
   "cell_type": "code",
   "execution_count": 11,
   "id": "a8e18e64",
   "metadata": {},
   "outputs": [],
   "source": [
    "masses = [8, 1, 2, 8, 4, 1, 8, 7]\n",
    "\n",
    "# function to get coordinates of CoM\n",
    "function center_of_mass(positions, masses)\n",
    "    pos_mas_matrix = positions .* masses\n",
    "    com_pos = [sum(pos_mas_matrix[1:end, i]) / sum(masses) for i ∈ 1:3]\n",
    "    \n",
    "    return com_pos\n",
    "end\n",
    "\n",
    "# function to get mean deviation from center of yz plane\n",
    "function yz_mean_deviation(y, z; y_c = 0.925, z_c = 1.075)\n",
    "    Δy = abs(y - y_c)\n",
    "    Δz = abs(z - z_c)\n",
    "    \n",
    "    mean_deviation = (Δy + Δz) / 2\n",
    "    \n",
    "    return mean_deviation    \n",
    "end\n",
    "\n",
    "function cross_mat(vector)\n",
    "    @assert length(vector) == 3 \"Vectors of length 3 required\"\n",
    "    return [\n",
    "        0 -vector[3] vector[2]\n",
    "        vector[3] 0 -vector[1]\n",
    "        -vector[2] vector[1] 0\n",
    "    ]\n",
    "end\n",
    "\n",
    "# generating permutations of mass combinations\n",
    "perms = unique(permutations(masses));"
   ]
  },
  {
   "cell_type": "code",
   "execution_count": 12,
   "id": "5a4cbe3b",
   "metadata": {},
   "outputs": [
    {
     "data": {
      "text/plain": [
       "get_k_vals (generic function with 1 method)"
      ]
     },
     "execution_count": 12,
     "metadata": {},
     "output_type": "execute_result"
    }
   ],
   "source": [
    "function get_k_vals(mass_positions, masses; rotation=nothing)\n",
    "    com = center_of_mass(mass_positions, masses)\n",
    "    pos_com = mass_positions .- transpose(com)\n",
    "    \n",
    "    Jb = -sum([\n",
    "        masses[i] * cross_mat(pos_com[i, 1:end]) * cross_mat(pos_com[i, 1:end]) for i ∈ 1:size(pos_com, 1)\n",
    "    ])\n",
    "    \n",
    "    Jb_p = eigvals(Jb)\n",
    "    \n",
    "    if rotation != nothing\n",
    "        Jb_p  = rotation * Jb_p\n",
    "    end\n",
    "    \n",
    "    J1, J2, J3 = Jb_p\n",
    "    k1 = (J2 - J3) / J1\n",
    "    k2 = (J1 - J3) / J2\n",
    "    k3 = (J2 - J1) / J3\n",
    "    \n",
    "    return k1, k2, k3\n",
    "end"
   ]
  },
  {
   "cell_type": "code",
   "execution_count": 13,
   "id": "3c336fcf",
   "metadata": {},
   "outputs": [],
   "source": [
    "k_vals_orig = [get_k_vals(corner_positions, perm) for perm in perms]\n",
    "k1_vec_orig = [k[1] for k in k_vals_orig]\n",
    "k3_vec_orig = [k[3] for k in k_vals_orig]\n",
    "\n",
    "k_vals_rot = [get_k_vals(corner_positions, perm, rotation=[0 1 0; 0 0 1; 1 0 0]) for perm in perms]\n",
    "k1_vec_rot = [k[1] for k in k_vals_rot]\n",
    "k2_vec_rot = [k[2] for k in k_vals_rot]\n",
    "k3_vec_rot = [k[3] for k in k_vals_rot];"
   ]
  },
  {
   "cell_type": "code",
   "execution_count": 17,
   "id": "795c8824",
   "metadata": {},
   "outputs": [
    {
     "data": {
      "image/png": "[encoded data removed]"
     },
     "execution_count": 17,
     "metadata": {},
     "output_type": "execute_result"
    }
   ],
   "source": [
    "scatter(\n",
    "    k1_vec_orig,\n",
    "    k3_vec_orig,\n",
    "    xlim=(-1,1),\n",
    "    ylim=(-1,1),\n",
    "    label=\"Original\",\n",
    "    size=(500,500),\n",
    "    markersize=1.5,\n",
    "    aspect_ratio=:equal,\n",
    "    legend=:topleft,\n",
    "    xlabel=L\"k_1\",\n",
    "    ylabel=L\"k_3\",\n",
    "    fmt=:png,\n",
    "    dpi=180\n",
    ")\n",
    "\n",
    "scatter!(k1_vec_rot, k3_vec_rot, label=\"Rotated\", markersize=1.5, color=:green)\n",
    "\n",
    "plot!([-1, 1], [-1, 1], label=\"\", color=:red)\n",
    "plot!([0, 1], [0, 0], label=\"\", color=:red)"
   ]
  },
  {
   "cell_type": "code",
   "execution_count": 18,
   "id": "695426b6",
   "metadata": {},
   "outputs": [
    {
     "data": {
      "text/plain": [
       "3×3 Matrix{Int64}:\n",
       " 0  1  0\n",
       " 0  0  1\n",
       " 1  0  0"
      ]
     },
     "execution_count": 18,
     "metadata": {},
     "output_type": "execute_result"
    }
   ],
   "source": [
    "case1_rotation = [\n",
    "    0 1 0\n",
    "    0 0 1\n",
    "    1 0 0\n",
    "]"
   ]
  },
  {
   "cell_type": "code",
   "execution_count": 19,
   "id": "f09b483c",
   "metadata": {},
   "outputs": [
    {
     "data": {
      "text/plain": [
       "check_stability (generic function with 1 method)"
      ]
     },
     "execution_count": 19,
     "metadata": {},
     "output_type": "execute_result"
    }
   ],
   "source": [
    "function check_stability(k1, k3)\n",
    "    cond1 = k1*k3 > 0\n",
    "    cond2 = 1 + 3*k1 + k1*k3 > 0\n",
    "    cond3 = (1 + 3*k1 + k1*k3)^2 - 16*k1*k3 > 0\n",
    "    \n",
    "    if cond1 && cond2 && cond3\n",
    "        return true\n",
    "    else\n",
    "        return false\n",
    "    end\n",
    "end"
   ]
  },
  {
   "cell_type": "code",
   "execution_count": 20,
   "id": "0fc4377d",
   "metadata": {},
   "outputs": [
    {
     "data": {
      "text/plain": [
       "0.025641025641025605"
      ]
     },
     "execution_count": 20,
     "metadata": {},
     "output_type": "execute_result"
    }
   ],
   "source": [
    "coms = [center_of_mass(corner_positions, perm) for perm in perms]\n",
    "\n",
    "# finding deviations of CoM positions from center of yz plane\n",
    "deviations = [yz_mean_deviation(com[2], com[3]) for com in coms];\n",
    "\n",
    "min_deviation = minimum(deviations)"
   ]
  },
  {
   "cell_type": "code",
   "execution_count": 21,
   "id": "445a897c",
   "metadata": {},
   "outputs": [
    {
     "data": {
      "text/plain": [
       "get_frequences (generic function with 1 method)"
      ]
     },
     "execution_count": 21,
     "metadata": {},
     "output_type": "execute_result"
    }
   ],
   "source": [
    "function get_frequences(k1, k2, k3, n)\n",
    "    ω_pitch = sqrt(3 * abs(k2)) * n\n",
    "    \n",
    "    b = k1*k3 + 3*k1 + 1\n",
    "    c = 4*k1*k3\n",
    "    ω_roll = sqrt(0.5*(b + sqrt(b^2 - 4*c)))\n",
    "    ω_yaw = sqrt(0.5*(b - sqrt(b^2 - 4*c)))\n",
    "    \n",
    "    return ω_pitch, ω_roll, ω_yaw\n",
    "end"
   ]
  },
  {
   "cell_type": "code",
   "execution_count": 22,
   "id": "d471517f",
   "metadata": {},
   "outputs": [
    {
     "data": {
      "text/plain": [
       "0.059839860068377014"
      ]
     },
     "execution_count": 22,
     "metadata": {},
     "output_type": "execute_result"
    }
   ],
   "source": [
    "period = 105\n",
    "n = 2*π / period"
   ]
  },
  {
   "cell_type": "code",
   "execution_count": 23,
   "id": "dbcff009",
   "metadata": {},
   "outputs": [],
   "source": [
    "results = []\n",
    "for i in 1:length(perms)\n",
    "    if deviations[i] <= min_deviation\n",
    "        perm = perms[i]\n",
    "        stability = check_stability(k1_vec_rot[i], k3_vec_rot[i])\n",
    "        ω_p, ω_r, ω_y = get_frequences(k1_vec_rot[i], k2_vec_rot[i], k3_vec_rot[i], n)\n",
    "        mean_oscillation = (ω_p + ω_r + ω_y)/3\n",
    "        \n",
    "        #println(\"$i \\t $perm \\t $stability \\t $(round(ω_p, digits=3)) \\t $(round(ω_r, digits=3)) \\t $(round(ω_y, digits=3)) \\t $(round(mean_oscillation, digits=3))\")\n",
    "        push!(results, [i, stability, ω_p, ω_r, ω_y, mean_oscillation])\n",
    "    end\n",
    "end"
   ]
  },
  {
   "cell_type": "code",
   "execution_count": 24,
   "id": "c7f5fc8f",
   "metadata": {},
   "outputs": [
    {
     "name": "stdout",
     "output_type": "stream",
     "text": [
      "┌────────┬───────────┬───────────┬─────────┬──────────┬──────────┐\n",
      "│\u001b[1m  Index \u001b[0m│\u001b[1m Stability \u001b[0m│\u001b[1m   ω_pitch \u001b[0m│\u001b[1m  ω_roll \u001b[0m│\u001b[1m    ω_yaw \u001b[0m│\u001b[1m   ω_mean \u001b[0m│\n",
      "├────────┼───────────┼───────────┼─────────┼──────────┼──────────┤\n",
      "│    6.0 │       1.0 │ 0.0722969 │ 1.71953 │ 0.505122 │ 0.765649 │\n",
      "│   20.0 │       1.0 │  0.065977 │ 1.68134 │ 0.529625 │  0.75898 │\n",
      "│   66.0 │       1.0 │ 0.0611758 │ 1.68607 │ 0.594574 │ 0.780605 │\n",
      "│   80.0 │       1.0 │ 0.0622046 │ 1.73325 │ 0.656853 │ 0.817436 │\n",
      "│ 1266.0 │       1.0 │ 0.0614762 │ 1.53554 │ 0.331729 │ 0.642916 │\n",
      "│ 1280.0 │       1.0 │ 0.0557251 │ 1.49545 │ 0.352476 │  0.63455 │\n",
      "│ 1326.0 │       1.0 │ 0.0405751 │ 1.34466 │ 0.295186 │ 0.560139 │\n",
      "│ 1340.0 │       1.0 │ 0.0600699 │  1.5264 │ 0.339232 │ 0.641902 │\n",
      "└────────┴───────────┴───────────┴─────────┴──────────┴──────────┘\n"
     ]
    }
   ],
   "source": [
    "pretty_table(\n",
    "    reduce(hcat, results)',\n",
    "    header=[\"Index\", \"Stability\", \"ω_pitch\", \"ω_roll\", \"ω_yaw\", \"ω_mean\"]\n",
    ")"
   ]
  },
  {
   "cell_type": "markdown",
   "id": "4c7371af",
   "metadata": {},
   "source": [
    "# Derivation of Rotational Kinetic Energy Equation"
   ]
  },
  {
   "cell_type": "code",
   "execution_count": 2,
   "id": "0eca7605",
   "metadata": {},
   "outputs": [
    {
     "data": {
      "text/latex": [
       "\\begin{equation}\n",
       "\\left[\n",
       "\\begin{array}{c}\n",
       "J{_1} \\\\\n",
       "J{_2} \\\\\n",
       "J{_3} \\\\\n",
       "\\end{array}\n",
       "\\right]\n",
       "\\end{equation}\n"
      ],
      "text/plain": [
       "3-element Vector{Num}:\n",
       " J₁\n",
       " J₂\n",
       " J₃"
      ]
     },
     "execution_count": 2,
     "metadata": {},
     "output_type": "execute_result"
    }
   ],
   "source": [
    "@variables ω₁, ω₂, ω₃, J₁, J₂, J₃\n",
    "ω = [ω₁, ω₂, ω₃]\n",
    "J = [J₁, J₂, J₃]"
   ]
  },
  {
   "cell_type": "code",
   "execution_count": 6,
   "id": "9f2ad8e6",
   "metadata": {},
   "outputs": [
    {
     "data": {
      "text/latex": [
       "\\begin{equation}\n",
       "\\left[\n",
       "\\begin{array}{c}\n",
       "\\omega{_1} \\left( 0.5 J{_1} \\omega{_1} + 0.5 J{_2} \\omega{_2} + 0.5 J{_3} \\omega{_3} \\right) \\\\\n",
       "\\omega{_2} \\left( 0.5 J{_1} \\omega{_1} + 0.5 J{_2} \\omega{_2} + 0.5 J{_3} \\omega{_3} \\right) \\\\\n",
       "\\omega{_3} \\left( 0.5 J{_1} \\omega{_1} + 0.5 J{_2} \\omega{_2} + 0.5 J{_3} \\omega{_3} \\right) \\\\\n",
       "\\end{array}\n",
       "\\right]\n",
       "\\end{equation}\n"
      ],
      "text/plain": [
       "3-element Vector{Num}:\n",
       " ω₁*(0.5J₁*ω₁ + 0.5J₂*ω₂ + 0.5J₃*ω₃)\n",
       " ω₂*(0.5J₁*ω₁ + 0.5J₂*ω₂ + 0.5J₃*ω₃)\n",
       " ω₃*(0.5J₁*ω₁ + 0.5J₂*ω₂ + 0.5J₃*ω₃)"
      ]
     },
     "execution_count": 6,
     "metadata": {},
     "output_type": "execute_result"
    }
   ],
   "source": [
    "T = 0.5 * ω' * J * ω"
   ]
  },
  {
   "cell_type": "code",
   "execution_count": null,
   "id": "965b36f9",
   "metadata": {},
   "outputs": [],
   "source": []
  }
 ],
 "metadata": {
  "kernelspec": {
   "display_name": "Julia 1.7.2",
   "language": "julia",
   "name": "julia-1.7"
  },
  "language_info": {
   "file_extension": ".jl",
   "mimetype": "application/julia",
   "name": "julia",
   "version": "1.7.2"
  },
  "latex_envs": {
   "LaTeX_envs_menu_present": true,
   "autoclose": false,
   "autocomplete": true,
   "bibliofile": "biblio.bib",
   "cite_by": "apalike",
   "current_citInitial": 1,
   "eqLabelWithNumbers": true,
   "eqNumInitial": 1,
   "hotkeys": {
    "equation": "Ctrl-E",
    "itemize": "Ctrl-I"
   },
   "labels_anchors": false,
   "latex_user_defs": false,
   "report_style_numbering": false,
   "user_envs_cfg": false
  },
  "toc": {
   "base_numbering": 1,
   "nav_menu": {},
   "number_sections": false,
   "sideBar": true,
   "skip_h1_title": false,
   "title_cell": "Table of Contents",
   "title_sidebar": "Contents",
   "toc_cell": false,
   "toc_position": {},
   "toc_section_display": true,
   "toc_window_display": false
  },
  "varInspector": {
   "cols": {
    "lenName": 16,
    "lenType": 16,
    "lenVar": 40
   },
   "kernels_config": {
    "python": {
     "delete_cmd_postfix": "",
     "delete_cmd_prefix": "del ",
     "library": "var_list.py",
     "varRefreshCmd": "print(var_dic_list())"
    },
    "r": {
     "delete_cmd_postfix": ") ",
     "delete_cmd_prefix": "rm(",
     "library": "var_list.r",
     "varRefreshCmd": "cat(var_dic_list()) "
    }
   },
   "types_to_exclude": [
    "module",
    "function",
    "builtin_function_or_method",
    "instance",
    "_Feature"
   ],
   "window_display": false
  }
 },
 "nbformat": 4,
 "nbformat_minor": 5
}
