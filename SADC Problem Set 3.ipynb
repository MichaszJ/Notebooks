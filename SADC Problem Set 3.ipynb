{
 "cells": [
  {
   "cell_type": "code",
   "execution_count": 1,
   "id": "33c061e4",
   "metadata": {},
   "outputs": [],
   "source": [
    "using LinearAlgebra, Combinatorics"
   ]
  },
  {
   "cell_type": "markdown",
   "id": "e3953db8",
   "metadata": {},
   "source": [
    "# Problem 1\n",
    "## Part A\n",
    "Determine the layout of the masses within the allowable volume. Give a sketch or plot of the layout and a table showing the position the masses, their labels, and positions. Note that you are only deciding on the placement of the masses. You do not have to design the rod arrangement to satisfy any sort of structural requirement (although you may sketch out the connections if you wish). Provide a brief explanation justifying your design."
   ]
  },
  {
   "cell_type": "code",
   "execution_count": 2,
   "id": "3b134e34",
   "metadata": {},
   "outputs": [
    {
     "data": {
      "text/plain": [
       "8×3 Matrix{Float64}:\n",
       " 0.0  0.0   0.0\n",
       " 2.9  0.0   0.0\n",
       " 2.9  1.85  0.0\n",
       " 0.0  1.85  0.0\n",
       " 0.0  0.0   2.15\n",
       " 2.9  0.0   2.15\n",
       " 2.9  1.85  2.15\n",
       " 0.0  1.85  2.15"
      ]
     },
     "execution_count": 2,
     "metadata": {},
     "output_type": "execute_result"
    }
   ],
   "source": [
    "masses = [8, 1, 2, 8, 4, 1, 8, 7]\n",
    "\n",
    "side_lengths = [2.9000, 1.8500, 2.1500]\n",
    "\n",
    "corner_positions = [\n",
    "         0         0         0\n",
    "    2.9000         0         0\n",
    "    2.9000    1.8500         0\n",
    "         0    1.8500         0\n",
    "         0         0    2.1500\n",
    "    2.9000         0    2.1500\n",
    "    2.9000    1.8500    2.1500\n",
    "         0    1.8500    2.1500\n",
    "]"
   ]
  },
  {
   "cell_type": "code",
   "execution_count": 3,
   "id": "8f633042",
   "metadata": {},
   "outputs": [
    {
     "data": {
      "text/plain": [
       "(0.925, 1.075)"
      ]
     },
     "execution_count": 3,
     "metadata": {},
     "output_type": "execute_result"
    }
   ],
   "source": [
    "# center of yz plane\n",
    "1.85/2, 2.15/2"
   ]
  },
  {
   "cell_type": "code",
   "execution_count": 4,
   "id": "4f0d76bb",
   "metadata": {},
   "outputs": [
    {
     "data": {
      "text/plain": [
       "yz_mean_deviation (generic function with 1 method)"
      ]
     },
     "execution_count": 4,
     "metadata": {},
     "output_type": "execute_result"
    }
   ],
   "source": [
    "# function to get coordinates of CoM\n",
    "function center_of_mass(positions, masses)\n",
    "    pos_mas_matrix = positions .* masses\n",
    "    com_pos = [sum(pos_mas_matrix[1:end, i]) / sum(masses) for i ∈ 1:3]\n",
    "    \n",
    "    return com_pos\n",
    "end\n",
    "\n",
    "# function to get mean deviation from center of yz plane\n",
    "function yz_mean_deviation(y, z; y_c = 0.925, z_c = 1.075)\n",
    "    Δy = abs(y - y_c)\n",
    "    Δz = abs(z - z_c)\n",
    "    \n",
    "    mean_deviation = (Δy + Δz) / 2\n",
    "    \n",
    "    return mean_deviation    \n",
    "end"
   ]
  },
  {
   "cell_type": "code",
   "execution_count": 5,
   "id": "63effaba",
   "metadata": {},
   "outputs": [],
   "source": [
    "# generating permutations of mass combinations\n",
    "perms = unique(permutations(masses))\n",
    "coms = [center_of_mass(corner_positions, perm) for perm in perms]\n",
    "\n",
    "# finding deviations of CoM positions from center of yz plane\n",
    "deviations = [yz_mean_deviation(com[2], com[3]) for com in coms];"
   ]
  },
  {
   "cell_type": "markdown",
   "id": "d33f7f9b",
   "metadata": {},
   "source": [
    "## Part B\n",
    "Using the external frame, $B$, (origin and axes shown in the figure), calculate the location of the centre of mass."
   ]
  },
  {
   "cell_type": "code",
   "execution_count": 6,
   "id": "a84c1eea",
   "metadata": {},
   "outputs": [
    {
     "data": {
      "text/plain": [
       "8×3 Matrix{Float64}:\n",
       "  0.0   0.0    0.0\n",
       " 23.2   0.0    0.0\n",
       " 23.2  14.8    0.0\n",
       "  0.0   3.7    0.0\n",
       "  0.0   0.0    8.6\n",
       " 20.3   0.0   15.05\n",
       " 23.2  14.8   17.2\n",
       "  0.0   1.85   2.15"
      ]
     },
     "execution_count": 6,
     "metadata": {},
     "output_type": "execute_result"
    }
   ],
   "source": [
    "masses_reordered = [1, 8, 8, 2, 4, 7, 8, 1]\n",
    "perm_index = 1326\n",
    "\n",
    "pos_mas_matrix = corner_positions .* masses_reordered"
   ]
  },
  {
   "cell_type": "code",
   "execution_count": 7,
   "id": "ae6c99ad",
   "metadata": {
    "scrolled": true
   },
   "outputs": [
    {
     "data": {
      "text/plain": [
       "3-element Vector{Float64}:\n",
       " 2.3051282051282054\n",
       " 0.9012820512820513\n",
       " 1.1025641025641024"
      ]
     },
     "execution_count": 7,
     "metadata": {},
     "output_type": "execute_result"
    }
   ],
   "source": [
    "com_pos = [sum(pos_mas_matrix[1:end, i]) / sum(masses_reordered) for i ∈ 1:3]"
   ]
  },
  {
   "cell_type": "markdown",
   "id": "ec8a0de8",
   "metadata": {},
   "source": [
    "## Part C\n",
    "Calculate the inertia matrix $J_B^\\prime$. The axes of $B^\\prime$ are aligned with $B$ but the origin is located at the centre of mass."
   ]
  },
  {
   "cell_type": "code",
   "execution_count": 8,
   "id": "c6833df4",
   "metadata": {},
   "outputs": [
    {
     "data": {
      "text/plain": [
       "8×3 Matrix{Float64}:\n",
       " -2.30513   -0.901282  -1.10256\n",
       "  0.594872  -0.901282  -1.10256\n",
       "  0.594872   0.948718  -1.10256\n",
       " -2.30513    0.948718  -1.10256\n",
       " -2.30513   -0.901282   1.04744\n",
       "  0.594872  -0.901282   1.04744\n",
       "  0.594872   0.948718   1.04744\n",
       " -2.30513    0.948718   1.04744"
      ]
     },
     "execution_count": 8,
     "metadata": {},
     "output_type": "execute_result"
    }
   ],
   "source": [
    "pos_Bp = corner_positions .- transpose(com_pos)"
   ]
  },
  {
   "cell_type": "code",
   "execution_count": 9,
   "id": "35b89053",
   "metadata": {},
   "outputs": [
    {
     "data": {
      "text/plain": [
       "cross_mat (generic function with 1 method)"
      ]
     },
     "execution_count": 9,
     "metadata": {},
     "output_type": "execute_result"
    }
   ],
   "source": [
    "function cross_mat(vector)\n",
    "    @assert length(vector) == 3 \"Vectors of length 3 required\"\n",
    "    return [\n",
    "        0 -vector[3] vector[2]\n",
    "        vector[3] 0 -vector[1]\n",
    "        -vector[2] vector[1] 0\n",
    "    ]\n",
    "end"
   ]
  },
  {
   "cell_type": "code",
   "execution_count": 10,
   "id": "00387e91",
   "metadata": {},
   "outputs": [
    {
     "data": {
      "text/plain": [
       "3×3 Matrix{Float64}:\n",
       " 78.3872   -4.81474   5.59551\n",
       " -4.81474  98.5187    2.95763\n",
       "  5.59551   2.95763  86.8264"
      ]
     },
     "execution_count": 10,
     "metadata": {},
     "output_type": "execute_result"
    }
   ],
   "source": [
    "Jb = -sum([\n",
    "    masses_reordered[i] .* cross_mat(pos_Bp[i, 1:end]) * cross_mat(pos_Bp[i, 1:end]) for i ∈ 1:size(pos_Bp, 1)\n",
    "])"
   ]
  },
  {
   "cell_type": "markdown",
   "id": "402b7c8e",
   "metadata": {},
   "source": [
    "## Part D\n",
    "Find the three principal moments of inertia for this body, and the directions of the principal axes. On a diagram of the body, sketch the directions of the major and minor axes (and label them)."
   ]
  },
  {
   "cell_type": "code",
   "execution_count": 11,
   "id": "ad1e32c0",
   "metadata": {},
   "outputs": [
    {
     "data": {
      "text/plain": [
       "3-element Vector{Float64}:\n",
       " 74.2901726807238\n",
       " 89.59269716317893\n",
       " 99.849437848405"
      ]
     },
     "execution_count": 11,
     "metadata": {},
     "output_type": "execute_result"
    }
   ],
   "source": [
    "evals = eigvals(Jb)"
   ]
  },
  {
   "cell_type": "code",
   "execution_count": 28,
   "id": "484ccab8",
   "metadata": {},
   "outputs": [
    {
     "data": {
      "text/plain": [
       "3×3 Matrix{Float64}:\n",
       " 0.896721  -0.00248789   0.44259\n",
       " 0.42935   -0.237932    -0.871233\n",
       " 0.107474   0.971279    -0.21229"
      ]
     },
     "execution_count": 28,
     "metadata": {},
     "output_type": "execute_result"
    }
   ],
   "source": [
    "evecs = eigvecs(Jb)"
   ]
  },
  {
   "cell_type": "markdown",
   "id": "bd8b5754",
   "metadata": {},
   "source": [
    "Checking eigenvalue/eigenvector problem condition (all following vectors should equal to ~0):"
   ]
  },
  {
   "cell_type": "code",
   "execution_count": 29,
   "id": "2b3011fe",
   "metadata": {},
   "outputs": [
    {
     "data": {
      "text/plain": [
       "3-element Vector{Float64}:\n",
       " -2.1649348980190553e-14\n",
       " -3.885780586188048e-16\n",
       "  1.687538997430238e-14"
      ]
     },
     "execution_count": 29,
     "metadata": {},
     "output_type": "execute_result"
    }
   ],
   "source": [
    "((evals[1] * I(3) - Jb) * evecs)[1:end, 1]"
   ]
  },
  {
   "cell_type": "code",
   "execution_count": 30,
   "id": "f2a2167f",
   "metadata": {},
   "outputs": [
    {
     "data": {
      "text/plain": [
       "3-element Vector{Float64}:\n",
       "  1.7763568394002505e-14\n",
       "  5.773159728050814e-15\n",
       " -3.064215547965432e-14"
      ]
     },
     "execution_count": 30,
     "metadata": {},
     "output_type": "execute_result"
    }
   ],
   "source": [
    "((evals[2] * I(3) - Jb) * evecs)[1:end, 2]"
   ]
  },
  {
   "cell_type": "code",
   "execution_count": 31,
   "id": "240f238a",
   "metadata": {},
   "outputs": [
    {
     "data": {
      "text/plain": [
       "3-element Vector{Float64}:\n",
       "  1.709743457922741e-14\n",
       " -6.106226635438361e-14\n",
       " -6.217248937900877e-15"
      ]
     },
     "execution_count": 31,
     "metadata": {},
     "output_type": "execute_result"
    }
   ],
   "source": [
    "((evals[3] * I(3) - Jb) * evecs)[1:end, 3]"
   ]
  },
  {
   "cell_type": "code",
   "execution_count": 32,
   "id": "e339187a",
   "metadata": {},
   "outputs": [
    {
     "data": {
      "text/plain": [
       "3×3 Matrix{Float64}:\n",
       " 62.6477    0.0      0.0\n",
       "  0.0     114.155    0.0\n",
       "  0.0       0.0    142.996"
      ]
     },
     "execution_count": 32,
     "metadata": {},
     "output_type": "execute_result"
    }
   ],
   "source": [
    "principal_moi = [\n",
    "    evals[1] 0 0\n",
    "    0 evals[2] 0 \n",
    "    0 0 evals[3]\n",
    "]"
   ]
  },
  {
   "cell_type": "code",
   "execution_count": 33,
   "id": "78b06df5",
   "metadata": {
    "scrolled": true
   },
   "outputs": [
    {
     "data": {
      "text/plain": [
       "3×3 Matrix{Float64}:\n",
       " 0.323926  0.0       0.0\n",
       " 0.0       0.590249  0.0\n",
       " 0.0       0.0       0.739377"
      ]
     },
     "execution_count": 33,
     "metadata": {},
     "output_type": "execute_result"
    }
   ],
   "source": [
    "principal_moi_dirs = principal_moi ./ norm(principal_moi)"
   ]
  },
  {
   "cell_type": "code",
   "execution_count": 34,
   "id": "6d9cee63",
   "metadata": {},
   "outputs": [
    {
     "data": {
      "text/plain": [
       "3×3 transpose(::Matrix{Float64}) with eltype Float64:\n",
       "  0.896721     0.42935    0.107474\n",
       " -0.00248789  -0.237932   0.971279\n",
       "  0.44259     -0.871233  -0.21229"
      ]
     },
     "execution_count": 34,
     "metadata": {},
     "output_type": "execute_result"
    }
   ],
   "source": [
    "C_Bp_B = transpose(evecs)"
   ]
  },
  {
   "cell_type": "code",
   "execution_count": 36,
   "id": "eaf081ac",
   "metadata": {},
   "outputs": [
    {
     "data": {
      "text/plain": [
       "(-0.46037732325651715, 0.36019928891241687)"
      ]
     },
     "execution_count": 36,
     "metadata": {},
     "output_type": "execute_result"
    }
   ],
   "source": [
    "# checking stability condition\n",
    "# k = ((J1 - J3) * (J2 - J3)) / (J1 * J2)\n",
    "\n",
    "J1, J2, J3 = evals\n",
    "\n",
    "k1 = (J2 - J3) / J1\n",
    "k3 = (J2 - J1) / J3\n",
    "\n",
    "k1, k3"
   ]
  },
  {
   "cell_type": "markdown",
   "id": "8c8bde28",
   "metadata": {},
   "source": [
    "## Part E\n",
    "Show how this body should be oriented in the orbital frame for stability. Assuming that the spacecraft lies in a 105 min. circular orbit, find the three natural frequencies of oscillation."
   ]
  },
  {
   "cell_type": "code",
   "execution_count": null,
   "id": "766d9376",
   "metadata": {},
   "outputs": [],
   "source": []
  },
  {
   "cell_type": "markdown",
   "id": "30001742",
   "metadata": {},
   "source": [
    "# Problem 2\n",
    "## Part A\n",
    "Calculate the final spin rate about the $z$-axis"
   ]
  },
  {
   "cell_type": "code",
   "execution_count": 3,
   "id": "30c19512",
   "metadata": {},
   "outputs": [
    {
     "data": {
      "text/plain": [
       "3-element Vector{Int64}:\n",
       "  80\n",
       "  80\n",
       " 180"
      ]
     },
     "execution_count": 3,
     "metadata": {},
     "output_type": "execute_result"
    }
   ],
   "source": [
    "r = 1\n",
    "\n",
    "ω3 = 2\n",
    "\n",
    "θ = deg2rad(15)\n",
    "\n",
    "J = [\n",
    "    80\n",
    "    80\n",
    "    180\n",
    "]"
   ]
  },
  {
   "cell_type": "code",
   "execution_count": 5,
   "id": "82af99a5",
   "metadata": {},
   "outputs": [
    {
     "data": {
      "text/plain": [
       "2.070552360820166"
      ]
     },
     "execution_count": 5,
     "metadata": {},
     "output_type": "execute_result"
    }
   ],
   "source": [
    "ω12 = (J[3] * ω3 * tan(θ)) / J[1]\n",
    "H = sqrt((J[3] * ω3)^2 + (J[1] * ω12)^2)\n",
    "\n",
    "ωf = H / J[3]"
   ]
  },
  {
   "cell_type": "markdown",
   "id": "dda24133",
   "metadata": {},
   "source": [
    "## Part B\n",
    "Calculate the loss in rotational kinetic energy"
   ]
  },
  {
   "cell_type": "code",
   "execution_count": 16,
   "id": "464ae9f5",
   "metadata": {},
   "outputs": [
    {
     "data": {
      "text/plain": [
       "0.8526091094167769"
      ]
     },
     "execution_count": 16,
     "metadata": {},
     "output_type": "execute_result"
    }
   ],
   "source": [
    "ω1 = sqrt(ω12^2 / 2)\n",
    "ω2 = ω1"
   ]
  },
  {
   "cell_type": "code",
   "execution_count": 27,
   "id": "a1c1b246",
   "metadata": {},
   "outputs": [
    {
     "data": {
      "text/plain": [
       "3-element Vector{Float64}:\n",
       " 211.6250231718574\n",
       " 211.6250231718574\n",
       " 496.4174575066843"
      ]
     },
     "execution_count": 27,
     "metadata": {},
     "output_type": "execute_result"
    }
   ],
   "source": [
    "ω_i = [ω1, ω2, ω3]\n",
    "\n",
    "T_i = 0.5 * ω_i' * J * ω_i"
   ]
  },
  {
   "cell_type": "code",
   "execution_count": 28,
   "id": "074ebe35",
   "metadata": {},
   "outputs": [
    {
     "data": {
      "text/plain": [
       "579.6555813432483"
      ]
     },
     "execution_count": 28,
     "metadata": {},
     "output_type": "execute_result"
    }
   ],
   "source": [
    "T_i_mag = norm(T_i)"
   ]
  },
  {
   "cell_type": "code",
   "execution_count": 29,
   "id": "8bcef6b7",
   "metadata": {},
   "outputs": [
    {
     "data": {
      "text/plain": [
       "3-element Vector{Float64}:\n",
       "   0.0\n",
       "   0.0\n",
       " 385.8468371008166"
      ]
     },
     "execution_count": 29,
     "metadata": {},
     "output_type": "execute_result"
    }
   ],
   "source": [
    "ω_f = [0, 0, ωf]\n",
    "T_f = 0.5 * ω_f' * J * ω_f"
   ]
  },
  {
   "cell_type": "code",
   "execution_count": 31,
   "id": "b0098c0f",
   "metadata": {},
   "outputs": [
    {
     "data": {
      "text/plain": [
       "385.8468371008166"
      ]
     },
     "execution_count": 31,
     "metadata": {},
     "output_type": "execute_result"
    }
   ],
   "source": [
    "T_f_mag = norm(T_f)"
   ]
  },
  {
   "cell_type": "code",
   "execution_count": 32,
   "id": "d4263039",
   "metadata": {},
   "outputs": [
    {
     "data": {
      "text/plain": [
       "193.80874424243171"
      ]
     },
     "execution_count": 32,
     "metadata": {},
     "output_type": "execute_result"
    }
   ],
   "source": [
    "T_i_mag - T_f_mag"
   ]
  },
  {
   "cell_type": "markdown",
   "id": "7c97360a",
   "metadata": {},
   "source": [
    "## Part C\n",
    "A tangential release yo-yo despin device is also included in the satellite. If the two\n",
    "yo-yo masses are each 4 kg, what cord length is required to completely despin the satellite."
   ]
  },
  {
   "cell_type": "code",
   "execution_count": 33,
   "id": "088242d1",
   "metadata": {},
   "outputs": [
    {
     "data": {
      "text/plain": [
       "4.847679857416329"
      ]
     },
     "execution_count": 33,
     "metadata": {},
     "output_type": "execute_result"
    }
   ],
   "source": [
    "r * sqrt(1 + J[3] / (2 * 4 * r^2))"
   ]
  }
 ],
 "metadata": {
  "kernelspec": {
   "display_name": "Julia 1.7.2",
   "language": "julia",
   "name": "julia-1.7"
  },
  "language_info": {
   "file_extension": ".jl",
   "mimetype": "application/julia",
   "name": "julia",
   "version": "1.7.2"
  },
  "latex_envs": {
   "LaTeX_envs_menu_present": true,
   "autoclose": false,
   "autocomplete": true,
   "bibliofile": "biblio.bib",
   "cite_by": "apalike",
   "current_citInitial": 1,
   "eqLabelWithNumbers": true,
   "eqNumInitial": 1,
   "hotkeys": {
    "equation": "Ctrl-E",
    "itemize": "Ctrl-I"
   },
   "labels_anchors": false,
   "latex_user_defs": false,
   "report_style_numbering": false,
   "user_envs_cfg": false
  },
  "toc": {
   "base_numbering": 1,
   "nav_menu": {},
   "number_sections": false,
   "sideBar": true,
   "skip_h1_title": false,
   "title_cell": "Table of Contents",
   "title_sidebar": "Contents",
   "toc_cell": false,
   "toc_position": {},
   "toc_section_display": true,
   "toc_window_display": false
  },
  "varInspector": {
   "cols": {
    "lenName": 16,
    "lenType": 16,
    "lenVar": 40
   },
   "kernels_config": {
    "python": {
     "delete_cmd_postfix": "",
     "delete_cmd_prefix": "del ",
     "library": "var_list.py",
     "varRefreshCmd": "print(var_dic_list())"
    },
    "r": {
     "delete_cmd_postfix": ") ",
     "delete_cmd_prefix": "rm(",
     "library": "var_list.r",
     "varRefreshCmd": "cat(var_dic_list()) "
    }
   },
   "types_to_exclude": [
    "module",
    "function",
    "builtin_function_or_method",
    "instance",
    "_Feature"
   ],
   "window_display": false
  }
 },
 "nbformat": 4,
 "nbformat_minor": 5
}
